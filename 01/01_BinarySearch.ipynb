{
  "nbformat": 4,
  "nbformat_minor": 0,
  "metadata": {
    "colab": {
      "name": "BinarySearch.ipynb",
      "provenance": [],
      "authorship_tag": "ABX9TyP2EbjQx42sIDzLdbgN1VNp"
    },
    "kernelspec": {
      "name": "python3",
      "display_name": "Python 3"
    }
  },
  "cells": [
    {
      "cell_type": "code",
      "metadata": {
        "id": "Di1dlsOwuVNN",
        "outputId": "3f05ac73-6748-4c90-8574-da03dd91a526",
        "colab": {
          "base_uri": "https://localhost:8080/",
          "height": 101
        }
      },
      "source": [
        "# Binary Search\n",
        "print(\"For operating binary search on an array, it should be sorted in ascending order\")\n",
        "\n",
        "n = int(input(\"Enter the number of elements in the array: \"))\n",
        "array = list(map(int, input(\"Enter the elements in ascending order: \").strip().split()))[:n]\n",
        "x = int(input(\"Enter the element to be searched: \"))\n",
        "flag = 1\n",
        "l = 0\n",
        "e = n-1\n",
        "m = (l+e)//2\n",
        "while(l<=e):\n",
        "  if x == array[m]:\n",
        "    print(str(x)  + \" is present at index \"+ str(m) + \"  :)\")\n",
        "    flag = 0\n",
        "    break\n",
        "  else:\n",
        "    if x>array[m]:\n",
        "      l = m+1\n",
        "    else:\n",
        "      e = m-1\n",
        "if flag != 0:\n",
        "  print(\"Alas! The element is not present :(\")"
      ],
      "execution_count": 1,
      "outputs": [
        {
          "output_type": "stream",
          "text": [
            "For operating binary search on an array, it should be sorted in ascending order\n",
            "Enter the number of elements in the array: 10\n",
            "Enter the elements in ascending order: 1 2 3 4 5 6 7 8 9 10\n",
            "Enter the element to be searched: 5\n",
            "5 is present at index 4  :)\n"
          ],
          "name": "stdout"
        }
      ]
    }
  ]
}