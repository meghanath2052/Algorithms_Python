{
  "nbformat": 4,
  "nbformat_minor": 0,
  "metadata": {
    "colab": {
      "name": "LinearSearch.ipynb",
      "provenance": [],
      "authorship_tag": "ABX9TyP/cetHnzhoHu18u2Gk26fp"
    },
    "kernelspec": {
      "name": "python3",
      "display_name": "Python 3"
    }
  },
  "cells": [
    {
      "cell_type": "code",
      "metadata": {
        "id": "LmDtZK5gWm75",
        "outputId": "18472c36-eafd-4fcd-84a5-5a3a4a54c0d8",
        "colab": {
          "base_uri": "https://localhost:8080/",
          "height": 101
        }
      },
      "source": [
        "n = int(input(\"Enter number of elements : \")) \n",
        "array = list(map(int,input(\"Enter the numbers : \").strip().split()))[:n] \n",
        "x = int(input(\"Enter the element to be searched: \"))\n",
        "flag = 1\n",
        "print(\"CAUTION: If the provided number of elements is greater than the enter one then it takes only n elements\")\n",
        "\n",
        "for i in range(n):\n",
        "  if array[i] == x:\n",
        "    print(\"The element is found at index \" + str(i) + \" :)\")\n",
        "    flag = 0\n",
        "\n",
        "if flag != 0:\n",
        "  print(\"Alas! The element is not found :(\")"
      ],
      "execution_count": 1,
      "outputs": [
        {
          "output_type": "stream",
          "text": [
            "Enter number of elements : 3\n",
            "Enter the numbers : 1 2 3\n",
            "Enter the element to be searched: 3\n",
            "CAUTION: If the provided number of elements is greater than the enter one then it takes only n elements\n",
            "The element is found at index 2 :)\n"
          ],
          "name": "stdout"
        }
      ]
    }
  ]
}