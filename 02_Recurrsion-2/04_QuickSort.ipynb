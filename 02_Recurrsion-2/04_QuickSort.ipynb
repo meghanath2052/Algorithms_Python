{
  "nbformat": 4,
  "nbformat_minor": 0,
  "metadata": {
    "colab": {
      "name": "04_QuickSort.ipynb",
      "provenance": [],
      "authorship_tag": "ABX9TyM5QPFt3jsSqS8hqQiXsoNu",
      "include_colab_link": true
    },
    "kernelspec": {
      "name": "python3",
      "display_name": "Python 3"
    }
  },
  "cells": [
    {
      "cell_type": "markdown",
      "metadata": {
        "id": "view-in-github",
        "colab_type": "text"
      },
      "source": [
        "<a href=\"https://colab.research.google.com/github/meghanath2052/Algorithms_Python/blob/main/02_Recurrsion-2/04_QuickSort.ipynb\" target=\"_parent\"><img src=\"https://colab.research.google.com/assets/colab-badge.svg\" alt=\"Open In Colab\"/></a>"
      ]
    },
    {
      "cell_type": "code",
      "metadata": {
        "id": "1J4mSEBQomM0",
        "outputId": "0ac0d73a-f43c-4919-9703-6ee04d7f984a",
        "colab": {
          "base_uri": "https://localhost:8080/",
          "height": 67
        }
      },
      "source": [
        "def partition(a, si, ei):\n",
        "    pivot = a[si]\n",
        "    #find number of elements smaller than pivot    \n",
        "    count = 0\n",
        "    \n",
        "    for i in range(si, ei+1):\n",
        "        if a[i] < pivot:\n",
        "            count = count + 1\n",
        "    \n",
        "    a[si+count], a[si] = a[si], a[si+count]\n",
        "    pivot_index = si + count\n",
        "    \n",
        "    i = si\n",
        "    j = ei\n",
        "\n",
        "    while i < j:\n",
        "      if a[i] < pivot:\n",
        "        i = i + 1\n",
        "      elif a[j] >= pivot:\n",
        "        j = j - 1\n",
        "      else:\n",
        "        a[i], a[j] = a[j], a[i]\n",
        "        i = i + 1\n",
        "        j = j - 1\n",
        "        \n",
        "    return pivot_index\n",
        "def quickSort(a, si, ei):\n",
        "    if si >= ei:\n",
        "        return \n",
        "    \n",
        "    pivot_index = partition(a, si, ei)\n",
        "    quickSort(a, si, pivot_index-1)\n",
        "    quickSort(a, pivot_index+1, ei)\n",
        "n=int(input())\n",
        "arr=list(int(i) for i in input().strip().split(' '))\n",
        "quickSort(arr, 0, n-1)\n",
        "print(*arr)\n"
      ],
      "execution_count": 1,
      "outputs": [
        {
          "output_type": "stream",
          "text": [
            "10\n",
            "4 1 3 2 5 9 6 10 7 8\n",
            "1 2 3 4 5 6 7 8 9 10\n"
          ],
          "name": "stdout"
        }
      ]
    }
  ]
}